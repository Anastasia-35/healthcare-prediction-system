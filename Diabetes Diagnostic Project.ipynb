{
 "cells": [
  {
   "cell_type": "markdown",
   "id": "75da3da2-43aa-4e7e-ba6e-9a6421b17874",
   "metadata": {},
   "source": [
    "Diabetes Diagnostic Project\n"
   ]
  },
  {
   "cell_type": "code",
   "execution_count": 11,
   "id": "612ee193-6a10-4945-ae71-c2129c69031e",
   "metadata": {},
   "outputs": [
    {
     "name": "stdout",
     "output_type": "stream",
     "text": [
      "Pregnancies                 0\n",
      "Glucose                     0\n",
      "BloodPressure               0\n",
      "SkinThickness               0\n",
      "Insulin                     0\n",
      "BMI                         0\n",
      "DiabetesPedigreeFunction    0\n",
      "Age                         0\n",
      "Outcome                     0\n",
      "dtype: int64\n",
      "Data preprocessing complete!\n"
     ]
    }
   ],
   "source": [
    "# Load and Clean the Dataset\n",
    "\n",
    "import pandas as pd\n",
    "from sklearn.model_selection import train_test_split\n",
    "from sklearn.preprocessing import StandardScaler\n",
    "\n",
    "# Load dataset\n",
    "df = pd.read_csv(\"diabetes.csv\")\n",
    "\n",
    "# Check for missing values\n",
    "print(df.isnull().sum())  # Ensure there are no missing values\n",
    "\n",
    "# Separate features (X) and target (y)\n",
    "X = df.drop(columns=['Outcome'])  # Assuming 'Outcome' is the target column\n",
    "y = df['Outcome']\n",
    "\n",
    "# Split data into training and test sets\n",
    "X_train, X_test, y_train, y_test = train_test_split(X, y, test_size=0.2, random_state=42)\n",
    "\n",
    "# Normalize features\n",
    "scaler = StandardScaler()\n",
    "X_train_scaled = scaler.fit_transform(X_train)\n",
    "X_test_scaled = scaler.transform(X_test)\n",
    "\n",
    "# Save the scaler for later use in Flask\n",
    "import joblib\n",
    "joblib.dump(scaler, \"scaler1.pkl\")\n",
    "\n",
    "print(\"Data preprocessing complete!\")\n"
   ]
  },
  {
   "cell_type": "code",
   "execution_count": 12,
   "id": "34f31dad-09f8-4415-9837-9dca5c9e6322",
   "metadata": {},
   "outputs": [
    {
     "name": "stdout",
     "output_type": "stream",
     "text": [
      "Model Accuracy: 0.7792\n"
     ]
    }
   ],
   "source": [
    "# Train a Stacking Model \n",
    "\n",
    "from sklearn.ensemble import StackingClassifier\n",
    "from sklearn.linear_model import LogisticRegression\n",
    "from sklearn.svm import SVC\n",
    "from xgboost import XGBClassifier\n",
    "from sklearn.metrics import accuracy_score\n",
    "import joblib\n",
    "\n",
    "# Define base models\n",
    "base_learners = [\n",
    "    ('xgb', XGBClassifier(n_estimators=200, max_depth=4, learning_rate=0.01, subsample=0.7, colsample_bytree=1.0, gamma=0.2, random_state=42)),\n",
    "    ('svc', SVC(kernel='linear', probability=True, random_state=42)),\n",
    "    ('lr', LogisticRegression(random_state=42))\n",
    "]\n",
    "\n",
    "# Define meta-model\n",
    "meta_model = LogisticRegression()\n",
    "\n",
    "# Create Stacking Classifier\n",
    "stacking_model = StackingClassifier(estimators=base_learners, final_estimator=meta_model)\n",
    "\n",
    "# Train the model\n",
    "stacking_model.fit(X_train_scaled, y_train)\n",
    "\n",
    "# Save the trained model\n",
    "joblib.dump(stacking_model, \"stacking_model1.pkl\")\n",
    "\n",
    "# Evaluate the model\n",
    "y_pred = stacking_model.predict(X_test_scaled)\n",
    "accuracy = accuracy_score(y_test, y_pred)\n",
    "print(f\"Model Accuracy: {accuracy:.4f}\")\n"
   ]
  },
  {
   "cell_type": "code",
   "execution_count": 14,
   "id": "d1c13035-d22e-4e1a-bb8c-b9059b850acb",
   "metadata": {},
   "outputs": [
    {
     "data": {
      "text/plain": [
       "['stacking_model1.pkl']"
      ]
     },
     "execution_count": 14,
     "metadata": {},
     "output_type": "execute_result"
    }
   ],
   "source": [
    "import joblib\n",
    "\n",
    "# Save the trained stacking model\n",
    "joblib.dump(stacking_model, \"stacking_model1.pkl\")\n"
   ]
  },
  {
   "cell_type": "code",
   "execution_count": null,
   "id": "0e22e592-64a2-4289-a0d5-1ecfbac51041",
   "metadata": {},
   "outputs": [],
   "source": []
  }
 ],
 "metadata": {
  "kernelspec": {
   "display_name": "Python 3 (ipykernel)",
   "language": "python",
   "name": "python3"
  },
  "language_info": {
   "codemirror_mode": {
    "name": "ipython",
    "version": 3
   },
   "file_extension": ".py",
   "mimetype": "text/x-python",
   "name": "python",
   "nbconvert_exporter": "python",
   "pygments_lexer": "ipython3",
   "version": "3.12.4"
  }
 },
 "nbformat": 4,
 "nbformat_minor": 5
}
